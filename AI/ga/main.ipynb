{
 "cells": [
  {
   "cell_type": "code",
   "execution_count": 1,
   "metadata": {},
   "outputs": [
    {
     "data": {
      "text/plain": [
       "([3, 1], [9, 1], [0.9, 0.1], [1.8, 0.2], [2, 0])"
      ]
     },
     "execution_count": 1,
     "metadata": {},
     "output_type": "execute_result"
    }
   ],
   "source": [
    "from random import randint\n",
    "\n",
    "# defining a selection function \n",
    "# to calculate fitness,expectedcount and actual count\n",
    "def selection(input):\n",
    "    #converting bin to dec\n",
    "    dec = list(map(lambda x: int(x,2),input))\n",
    "    # print(dec)\n",
    "    # calulating fitness by squaring\n",
    "    fit = list(map(lambda x: x*x,dec))\n",
    "    #calculating the sum of fitness values \n",
    "    # values are stored in a array so sum of those elements\n",
    "    s = sum(fit)\n",
    "    #probabilities for each gene x/s,3 3=>rounded upto 3 digits\n",
    "    prob = list(map(lambda x: round(x/s,3),fit))\n",
    "    avg = s/n\n",
    "    \n",
    "    #expected count fit/avg\n",
    "    exe = list(map(lambda x:round(x/avg,3),fit))\n",
    "    \n",
    "    #actual count -> roundoff the expected count\n",
    "    ac = list(map(lambda x:round(x),exe))\n",
    "    \n",
    "    return dec,fit,prob,exe,ac\n",
    "    \n",
    "\n",
    "n = int(input(\"Enter the number of samples\"))\n",
    "selection([\"11\",\"01\"])\n",
    "\n"
   ]
  }
 ],
 "metadata": {
  "kernelspec": {
   "display_name": "Python 3",
   "language": "python",
   "name": "python3"
  },
  "language_info": {
   "codemirror_mode": {
    "name": "ipython",
    "version": 3
   },
   "file_extension": ".py",
   "mimetype": "text/x-python",
   "name": "python",
   "nbconvert_exporter": "python",
   "pygments_lexer": "ipython3",
   "version": "3.10.4"
  }
 },
 "nbformat": 4,
 "nbformat_minor": 2
}
