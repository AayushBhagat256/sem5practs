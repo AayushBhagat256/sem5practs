{
 "cells": [
  {
   "cell_type": "code",
   "execution_count": 6,
   "metadata": {},
   "outputs": [
    {
     "name": "stdout",
     "output_type": "stream",
     "text": [
      "The 3-bit binary representation of 3 is: 011\n"
     ]
    }
   ],
   "source": [
    "def decimal_to_binary(decimal_number, n):\n",
    "    binary_representation = format(decimal_number, f'0{n}b')\n",
    "    return binary_representation\n",
    "\n",
    "# Example usage:\n",
    "decimal_number = 3\n",
    "bit_length = 3\n",
    "binary_representation = decimal_to_binary(decimal_number, bit_length)\n",
    "print(f\"The {bit_length}-bit binary representation of {decimal_number} is: {binary_representation}\")\n"
   ]
  },
  {
   "cell_type": "code",
   "execution_count": 7,
   "metadata": {},
   "outputs": [
    {
     "name": "stdout",
     "output_type": "stream",
     "text": [
      "The sum of 1101 and 101 is: 10010\n"
     ]
    }
   ],
   "source": [
    "def add_binary_numbers(binary1, binary2):\n",
    "    max_length = max(len(binary1), len(binary2))\n",
    "    binary1 = binary1.zfill(max_length)\n",
    "    binary2 = binary2.zfill(max_length)\n",
    "\n",
    "    carry = 0\n",
    "    result = ''\n",
    "\n",
    "    for i in range(max_length - 1, -1, -1):\n",
    "        bit_sum = int(binary1[i]) + int(binary2[i]) + carry\n",
    "        result = str(bit_sum % 2) + result\n",
    "        carry = bit_sum // 2\n",
    "\n",
    "    if carry:\n",
    "        result = '1' + result\n",
    "\n",
    "    return result\n",
    "\n",
    "# Example usage:\n",
    "binary1 = '1101'\n",
    "binary2 = '101'\n",
    "sum_binary = add_binary_numbers(binary1, binary2)\n",
    "print(f\"The sum of {binary1} and {binary2} is: {sum_binary}\")\n"
   ]
  },
  {
   "cell_type": "code",
   "execution_count": 8,
   "metadata": {},
   "outputs": [
    {
     "name": "stdout",
     "output_type": "stream",
     "text": [
      "The sum of 1101 and 101 is: 10010\n"
     ]
    }
   ],
   "source": [
    "def add_binary_numbers(binary1, binary2):\n",
    "    # Convert binary strings to integers and perform addition\n",
    "    result = bin(int(binary1, 2) + int(binary2, 2))\n",
    "\n",
    "    # Remove the '0b' prefix from the binary result\n",
    "    return result[2:]\n",
    "\n",
    "# Example usage:\n",
    "binary1 = '1101'\n",
    "binary2 = '101'\n",
    "sum_binary = add_binary_numbers(binary1, binary2)\n",
    "print(f\"The sum of {binary1} and {binary2} is: {sum_binary}\")\n"
   ]
  },
  {
   "cell_type": "code",
   "execution_count": 15,
   "metadata": {},
   "outputs": [
    {
     "name": "stdout",
     "output_type": "stream",
     "text": [
      "The 6-bit sum of 1101 and 1101 is: 11010\n"
     ]
    }
   ],
   "source": [
    "def add_binary_numbers(binary1, binary2, n):\n",
    "    # Convert binary strings to integers and perform addition\n",
    "    result = bin(int(binary1, 2) + int(binary2, 2))\n",
    "\n",
    "    # Remove the '0b' prefix from the binary result\n",
    "    result_binary = result[2:]\n",
    "\n",
    "    # Ensure the result is limited to n bits, if specified\n",
    "    # if n is not None:\n",
    "    #     result_binary = result_binary[-n:]\n",
    "\n",
    "    return result_binary\n",
    "\n",
    "# Example usage:\n",
    "binary1 = '1101'\n",
    "binary2 = '1101'\n",
    "bit_limit = 6\n",
    "sum_binary = add_binary_numbers(binary1, binary2, bit_limit)\n",
    "print(f\"The {bit_limit}-bit sum of {binary1} and {binary2} is: {sum_binary}\")\n"
   ]
  },
  {
   "cell_type": "code",
   "execution_count": 16,
   "metadata": {},
   "outputs": [
    {
     "name": "stdout",
     "output_type": "stream",
     "text": [
      "('0011', '1001', '1')\n"
     ]
    }
   ],
   "source": [
    "def ars(a,Q,q):\n",
    "    q = Q[-1]\n",
    "    Q = a[-1]+Q[:-1]\n",
    "    a = a[0]+a[:-1]\n",
    "    return a,Q,q\n",
    "\n",
    "print(ars('0111','0011','0'))"
   ]
  },
  {
   "cell_type": "code",
   "execution_count": 21,
   "metadata": {},
   "outputs": [
    {
     "name": "stdout",
     "output_type": "stream",
     "text": [
      "7\n",
      "<class 'str'>\n",
      "o\n"
     ]
    }
   ],
   "source": [
    "m = str(int(abs(int('-7'))))\n",
    "print(m)\n",
    "print(type(m))\n",
    "\n",
    "stri = \"hello\"\n",
    "print(stri[-1])"
   ]
  }
 ],
 "metadata": {
  "kernelspec": {
   "display_name": "Python 3",
   "language": "python",
   "name": "python3"
  },
  "language_info": {
   "codemirror_mode": {
    "name": "ipython",
    "version": 3
   },
   "file_extension": ".py",
   "mimetype": "text/x-python",
   "name": "python",
   "nbconvert_exporter": "python",
   "pygments_lexer": "ipython3",
   "version": "3.10.4"
  }
 },
 "nbformat": 4,
 "nbformat_minor": 2
}
