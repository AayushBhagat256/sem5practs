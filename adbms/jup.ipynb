{
 "cells": [
  {
   "cell_type": "code",
   "execution_count": null,
   "metadata": {},
   "outputs": [],
   "source": [
    "from BTrees.IIBTree import IIBTree\n",
    "import time\n",
    "t = IIBTree()\n",
    "insertion_start_time = time.time()\n",
    "for i in range(1000):\n",
    "    t.update({i: 2*i})\n",
    "insertion_end_time = time.time()\n",
    "print( f\"Insertion time: {round((insertion_end_time-insertion_start_time)*1000,3)} milliseconds\")\n",
    "key = int(input(\"enter key: \"))\n",
    "search_start_time = time.time()\n",
    "if t.has_key(key):\n",
    "    print(t[key])\n",
    "search_end_time = time.time()\n",
    "print(f\"Search time: {round((search_end_time-search_start_time)*1000,3)} milliseconds\")"
   ]
  }
 ],
 "metadata": {
  "kernelspec": {
   "display_name": "Python 3",
   "language": "python",
   "name": "python3"
  },
  "language_info": {
   "name": "python",
   "version": "3.11.4"
  }
 },
 "nbformat": 4,
 "nbformat_minor": 2
}
